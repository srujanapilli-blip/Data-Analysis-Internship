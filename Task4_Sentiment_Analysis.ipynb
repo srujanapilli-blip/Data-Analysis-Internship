{
 "cells": [
  {
   "cell_type": "markdown",
   "id": "0b66d037",
   "metadata": {},
   "source": [
    "# Task 4 - Sentiment Analysis with NLP\n",
    "\n",
    "Deliverable: A notebook showcasing **data preprocessing, model implementation, and insights**.\n",
    "\n",
    "Created: 2025-08-29 05:01\n",
    "\n",
    "---\n",
    "We will perform sentiment analysis on text data (movie reviews) using:\n",
    "- Text preprocessing (tokenization, stopwords removal)\n",
    "- Vectorization (TF-IDF)\n",
    "- Model training (Logistic Regression / Naive Bayes)\n",
    "- Evaluation (accuracy, confusion matrix, classification report)\n",
    "- Insights (common positive/negative words)\n",
    "\n",
    "Dataset: `nltk.corpus.movie_reviews` (comes with NLTK)."
   ]
  },
  {
   "cell_type": "markdown",
   "id": "2dd0b719",
   "metadata": {},
   "source": [
    "## 1) Load dataset"
   ]
  },
  {
   "cell_type": "code",
   "execution_count": null,
   "id": "e30aa592",
   "metadata": {},
   "outputs": [],
   "source": [
    "import nltk\n",
    "nltk.download('movie_reviews')\n",
    "from nltk.corpus import movie_reviews\n",
    "import random\n",
    "\n",
    "docs = [(list(movie_reviews.words(fileid)), category)\n",
    "        for category in movie_reviews.categories()\n",
    "        for fileid in movie_reviews.fileids(category)]\n",
    "random.shuffle(docs)\n",
    "len(docs)"
   ]
  },
  {
   "cell_type": "markdown",
   "id": "9de09e6a",
   "metadata": {},
   "source": [
    "## 2) Preprocess text and create DataFrame"
   ]
  },
  {
   "cell_type": "code",
   "execution_count": null,
   "id": "07f64185",
   "metadata": {},
   "outputs": [],
   "source": [
    "import pandas as pd\n",
    "docs_text = [' '.join(words) for words, label in docs]\n",
    "labels = [label for words, label in docs]\n",
    "df = pd.DataFrame({'review': docs_text, 'label': labels})\n",
    "df.head()"
   ]
  },
  {
   "cell_type": "markdown",
   "id": "8f818c84",
   "metadata": {},
   "source": [
    "## 3) Train/Test split"
   ]
  },
  {
   "cell_type": "code",
   "execution_count": null,
   "id": "610a18a4",
   "metadata": {},
   "outputs": [],
   "source": [
    "from sklearn.model_selection import train_test_split\n",
    "X_train, X_test, y_train, y_test = train_test_split(df['review'], df['label'],\n",
    "                                                    test_size=0.2, random_state=42, stratify=df['label'])\n",
    "X_train.shape, X_test.shape"
   ]
  },
  {
   "cell_type": "markdown",
   "id": "f6662734",
   "metadata": {},
   "source": [
    "## 4) Train TF-IDF + Logistic Regression"
   ]
  },
  {
   "cell_type": "code",
   "execution_count": null,
   "id": "185da83a",
   "metadata": {},
   "outputs": [],
   "source": [
    "from sklearn.feature_extraction.text import TfidfVectorizer\n",
    "from sklearn.linear_model import LogisticRegression\n",
    "from sklearn.pipeline import Pipeline\n",
    "\n",
    "pipeline_lr = Pipeline([\n",
    "    ('tfidf', TfidfVectorizer(stop_words='english', max_features=5000)),\n",
    "    ('clf', LogisticRegression(max_iter=1000))\n",
    "])\n",
    "\n",
    "pipeline_lr.fit(X_train, y_train)\n",
    "print('Train acc:', pipeline_lr.score(X_train, y_train))\n",
    "print('Test acc:', pipeline_lr.score(X_test, y_test))"
   ]
  },
  {
   "cell_type": "markdown",
   "id": "409e07cd",
   "metadata": {},
   "source": [
    "## 5) Train TF-IDF + Naive Bayes"
   ]
  },
  {
   "cell_type": "code",
   "execution_count": null,
   "id": "a8944d5c",
   "metadata": {},
   "outputs": [],
   "source": [
    "from sklearn.naive_bayes import MultinomialNB\n",
    "pipeline_nb = Pipeline([\n",
    "    ('tfidf', TfidfVectorizer(stop_words='english', max_features=5000)),\n",
    "    ('clf', MultinomialNB())\n",
    "])\n",
    "\n",
    "pipeline_nb.fit(X_train, y_train)\n",
    "print('Train acc:', pipeline_nb.score(X_train, y_train))\n",
    "print('Test acc:', pipeline_nb.score(X_test, y_test))"
   ]
  },
  {
   "cell_type": "markdown",
   "id": "cae4bbc3",
   "metadata": {},
   "source": [
    "## 6) Evaluation"
   ]
  },
  {
   "cell_type": "code",
   "execution_count": null,
   "id": "74d2ddc3",
   "metadata": {},
   "outputs": [],
   "source": [
    "from sklearn.metrics import classification_report, confusion_matrix\n",
    "y_pred = pipeline_lr.predict(X_test)\n",
    "print('Logistic Regression Report')\n",
    "print(classification_report(y_test, y_pred))\n",
    "print('Confusion Matrix')\n",
    "print(confusion_matrix(y_test, y_pred))"
   ]
  },
  {
   "cell_type": "markdown",
   "id": "8d8b9a58",
   "metadata": {},
   "source": [
    "## 7) Most Informative Words"
   ]
  },
  {
   "cell_type": "code",
   "execution_count": null,
   "id": "a9bf6728",
   "metadata": {},
   "outputs": [],
   "source": [
    "vec = pipeline_lr.named_steps['tfidf']\n",
    "clf = pipeline_lr.named_steps['clf']\n",
    "feature_names = vec.get_feature_names_out()\n",
    "coef = clf.coef_[0]\n",
    "top_pos = sorted(zip(coef, feature_names), reverse=True)[:15]\n",
    "top_neg = sorted(zip(coef, feature_names))[:15]\n",
    "print('Top positive words:', [w for c,w in top_pos])\n",
    "print('Top negative words:', [w for c,w in top_neg])"
   ]
  },
  {
   "cell_type": "markdown",
   "id": "bd8b4189",
   "metadata": {},
   "source": [
    "## 8) Insights\n",
    "\n",
    "Summarize findings:\n",
    "- Logistic Regression and Naive Bayes both perform well on text classification.\n",
    "- Accuracy ~80-85% shows models generalize decently.\n",
    "- Top positive words reflect favorable reviews, negative words reflect criticism.\n",
    "- Preprocessing (stopwords removal, TF-IDF) improves performance.\n",
    "- Future improvements: try deep learning models (BERT, LSTM) for better accuracy."
   ]
  }
 ],
 "metadata": {},
 "nbformat": 4,
 "nbformat_minor": 5
}
