{
 "cells": [
  {
   "cell_type": "markdown",
   "id": "d73fd039",
   "metadata": {},
   "source": [
    "# Task 2 - Predictive Analysis using Machine Learning\n",
    "\n",
    "Deliverable: A notebook demonstrating **feature selection, model training, and evaluation**.\n",
    "\n",
    "Created: 2025-08-29 04:59\n",
    "\n",
    "---\n",
    "We will build a classification model using the Titanic dataset (predict survival). This dataset is well-known, small enough to run locally, and demonstrates end-to-end ML workflow.\n",
    "\n",
    "Steps:\n",
    "1. Load dataset\n",
    "2. Explore and preprocess features\n",
    "3. Feature engineering & selection\n",
    "4. Train/test split\n",
    "5. Model training (Logistic Regression, Random Forest)\n",
    "6. Evaluation (accuracy, confusion matrix, classification report)\n",
    "7. Insights"
   ]
  },
  {
   "cell_type": "markdown",
   "id": "8eec98ba",
   "metadata": {},
   "source": [
    "## 1) Load dataset"
   ]
  },
  {
   "cell_type": "code",
   "execution_count": null,
   "id": "3ec52490",
   "metadata": {},
   "outputs": [],
   "source": [
    "import seaborn as sns\n",
    "import pandas as pd\n",
    "titanic = sns.load_dataset('titanic')\n",
    "print(titanic.shape)\n",
    "titanic.head()"
   ]
  },
  {
   "cell_type": "markdown",
   "id": "8dcb5769",
   "metadata": {},
   "source": [
    "## 2) Preprocess features"
   ]
  },
  {
   "cell_type": "code",
   "execution_count": null,
   "id": "a8c46bb2",
   "metadata": {},
   "outputs": [],
   "source": [
    "df = titanic.copy()\n",
    "# Drop columns with too many missing or not useful for prediction\n",
    "df = df.drop(columns=['deck','embark_town','alive','class','who','adult_male'])\n",
    "\n",
    "# Fill missing values\n",
    "df['age'] = df['age'].fillna(df['age'].median())\n",
    "df['embarked'] = df['embarked'].fillna(df['embarked'].mode()[0])\n",
    "\n",
    "# Encode categorical variables\n",
    "df = pd.get_dummies(df, drop_first=True)\n",
    "\n",
    "print(df.shape)\n",
    "df.head()"
   ]
  },
  {
   "cell_type": "markdown",
   "id": "fe9dc285",
   "metadata": {},
   "source": [
    "## 3) Train/Test split"
   ]
  },
  {
   "cell_type": "code",
   "execution_count": null,
   "id": "6ff4adfa",
   "metadata": {},
   "outputs": [],
   "source": [
    "from sklearn.model_selection import train_test_split\n",
    "X = df.drop('survived', axis=1)\n",
    "y = df['survived']\n",
    "X_train, X_test, y_train, y_test = train_test_split(X, y, test_size=0.2, random_state=42, stratify=y)\n",
    "X_train.shape, X_test.shape"
   ]
  },
  {
   "cell_type": "markdown",
   "id": "6389623f",
   "metadata": {},
   "source": [
    "## 4) Train Logistic Regression"
   ]
  },
  {
   "cell_type": "code",
   "execution_count": null,
   "id": "73c71fd8",
   "metadata": {},
   "outputs": [],
   "source": [
    "from sklearn.linear_model import LogisticRegression\n",
    "model_lr = LogisticRegression(max_iter=1000)\n",
    "model_lr.fit(X_train, y_train)\n",
    "y_pred_lr = model_lr.predict(X_test)\n",
    "print('Train acc:', model_lr.score(X_train, y_train))\n",
    "print('Test acc:', model_lr.score(X_test, y_test))"
   ]
  },
  {
   "cell_type": "markdown",
   "id": "79ebecdd",
   "metadata": {},
   "source": [
    "## 5) Train Random Forest"
   ]
  },
  {
   "cell_type": "code",
   "execution_count": null,
   "id": "044dc152",
   "metadata": {},
   "outputs": [],
   "source": [
    "from sklearn.ensemble import RandomForestClassifier\n",
    "model_rf = RandomForestClassifier(n_estimators=200, random_state=42)\n",
    "model_rf.fit(X_train, y_train)\n",
    "y_pred_rf = model_rf.predict(X_test)\n",
    "print('Train acc:', model_rf.score(X_train, y_train))\n",
    "print('Test acc:', model_rf.score(X_test, y_test))"
   ]
  },
  {
   "cell_type": "markdown",
   "id": "804904c8",
   "metadata": {},
   "source": [
    "## 6) Evaluation"
   ]
  },
  {
   "cell_type": "code",
   "execution_count": null,
   "id": "7f553de0",
   "metadata": {},
   "outputs": [],
   "source": [
    "from sklearn.metrics import classification_report, confusion_matrix\n",
    "print('Logistic Regression Report')\n",
    "print(classification_report(y_test, y_pred_lr))\n",
    "print('Random Forest Report')\n",
    "print(classification_report(y_test, y_pred_rf))\n",
    "\n",
    "print('Confusion Matrix (Random Forest)')\n",
    "print(confusion_matrix(y_test, y_pred_rf))"
   ]
  },
  {
   "cell_type": "markdown",
   "id": "79608bb7",
   "metadata": {},
   "source": [
    "## 7) Feature Importance (Random Forest)"
   ]
  },
  {
   "cell_type": "code",
   "execution_count": null,
   "id": "5c6e7dc2",
   "metadata": {},
   "outputs": [],
   "source": [
    "import matplotlib.pyplot as plt\n",
    "import numpy as np\n",
    "feat_imp = pd.Series(model_rf.feature_importances_, index=X.columns)\n",
    "feat_imp.nlargest(10).plot(kind='barh')\n",
    "plt.title('Top 10 Important Features')\n",
    "plt.show()"
   ]
  },
  {
   "cell_type": "markdown",
   "id": "91f6e206",
   "metadata": {},
   "source": [
    "## 8) Insights\n",
    "\n",
    "After running the models, summarize:\n",
    "- Accuracy of Logistic Regression vs Random Forest\n",
    "- Key features influencing survival (e.g., sex, age, class)\n",
    "- Whether model generalizes well (train vs test accuracy)\n",
    "- Potential improvements (hyperparameter tuning, cross-validation, etc.)"
   ]
  }
 ],
 "metadata": {},
 "nbformat": 4,
 "nbformat_minor": 5
}
